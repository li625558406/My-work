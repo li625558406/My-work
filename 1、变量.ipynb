{
 "cells": [
  {
   "cell_type": "markdown",
   "metadata": {},
   "source": [
    "# python 学习之路\n",
    "- 坚持写博客\n",
    "- jupyter notebook的用法\n",
    "- 变量"
   ]
  },
  {
   "cell_type": "code",
   "execution_count": 2,
   "metadata": {},
   "outputs": [
    {
     "name": "stdout",
     "output_type": "stream",
     "text": [
      "i love wangxiaojing\n"
     ]
    }
   ],
   "source": [
    "print(\"i love wangxiaojing\")"
   ]
  },
  {
   "cell_type": "code",
   "execution_count": 1,
   "metadata": {},
   "outputs": [
    {
     "name": "stdout",
     "output_type": "stream",
     "text": [
      "我爱周瑶\n",
      "我爱周瑶 我爱周瑶\n",
      "wo ai zhou yao wo ai ni  123\n"
     ]
    }
   ],
   "source": [
    "#声明的三种格式\n",
    "#格式1\n",
    "s = \"我爱周瑶\"\n",
    "\n",
    "#格式2\n",
    "s2 = s1 =\"我爱周瑶\"\n",
    "print(s)\n",
    "print(s2,s1)\n",
    "#格式3\n",
    "s1,s2,s3 = \"wo ai zhou yao\",\"wo ai ni \",123\n",
    "print(s1,s2,s3)"
   ]
  },
  {
   "cell_type": "markdown",
   "metadata": {},
   "source": [
    "# 变量类型\n",
    "- 严格意义上讲，python只有一个类型\n",
    "- 标准数据类型六中\n",
    "    - 数字Number\n",
    "    - 字符串 str\n",
    "    - 列表 list\n",
    "    - 元组 tuple\n",
    "    - 字典 dict\n",
    "    - 集合 set"
   ]
  },
  {
   "cell_type": "markdown",
   "metadata": {},
   "source": [
    "# 数字类型 Number\n",
    "- python 中的数字没有大小限制\n",
    "# 常见数字分类\n",
    "- 整数\n",
    "    - 没有小数部分\n",
    "    - 包含正数，负数，0\n",
    "    - 二进制\n",
    "        - 只有01\n",
    "        - 以0b开头的01串\n",
    "        - 例如：\n",
    "            - 0b110\n",
    "            - 0b1111\n",
    "    - 八进制\n",
    "        - 以0o开头的0到7之间的数字串\n",
    "        - 例如：\n",
    "            - 0o72\n",
    "    - 十六进制\n",
    "        - 以0x组成的由 0-9，a-f构成的串\n",
    "- 浮点数\n",
    "- 科学计数法\n",
    "- 复数"
   ]
  },
  {
   "cell_type": "code",
   "execution_count": 6,
   "metadata": {},
   "outputs": [
    {
     "name": "stdout",
     "output_type": "stream",
     "text": [
      "6\n",
      "30\n",
      "58\n",
      "575\n"
     ]
    }
   ],
   "source": [
    "a1=0b110\n",
    "print(a1)\n",
    "a2=0b11110\n",
    "print(a2)\n",
    "a3=0o72\n",
    "print(a3)\n",
    "a4=0x23f\n",
    "print(a4)"
   ]
  },
  {
   "cell_type": "code",
   "execution_count": 8,
   "metadata": {},
   "outputs": [
    {
     "name": "stdout",
     "output_type": "stream",
     "text": [
      "65535\n",
      "214444\n"
     ]
    }
   ],
   "source": [
    "#十六进制的案例\n",
    "a4=0xffff\n",
    "print(a4)\n",
    "\n",
    "a5=0x345ac\n",
    "print(a5)"
   ]
  },
  {
   "cell_type": "markdown",
   "metadata": {},
   "source": [
    "## 浮点数\n",
    "- 就是通俗意义上的小数量\n",
    "- 常见的案例格式\n",
    "    - 3.12159\n",
    "    - 3.\n",
    "    - 0.2\n",
    "    - .4\n",
    "- 科学记数法\n",
    "    - 定义跟数学定义一致、\n",
    "    - 写法就是e后面跟整数用来表示10的指数"
   ]
  },
  {
   "cell_type": "code",
   "execution_count": 10,
   "metadata": {},
   "outputs": [
    {
     "name": "stdout",
     "output_type": "stream",
     "text": [
      "184\n",
      "184.0\n",
      "0.2\n"
     ]
    }
   ],
   "source": [
    "#科学记数法\n",
    "heigh = 178\n",
    "print(184)\n",
    "\n",
    "heigh2 = 1.84e2\n",
    "print(heigh2)\n",
    "\n",
    "a=.2\n",
    "print(a)"
   ]
  },
  {
   "cell_type": "markdown",
   "metadata": {},
   "source": [
    "# 复数complex\n",
    "- 与数学定义一致\n",
    "- 复数的虚部用j/J表示\n",
    "- 例如：\n",
    "    - 5+4j\n",
    "    - 4j\n",
    "    - (4j)"
   ]
  },
  {
   "cell_type": "code",
   "execution_count": 11,
   "metadata": {},
   "outputs": [
    {
     "name": "stdout",
     "output_type": "stream",
     "text": [
      "4j\n"
     ]
    }
   ],
   "source": [
    "a=4j\n",
    "print(a)"
   ]
  },
  {
   "cell_type": "markdown",
   "metadata": {},
   "source": [
    "# 布尔值\n",
    "- 布尔值就是用来表示真假的值\n",
    "- 只有两个值：True/False(第一个字母大写)\n",
    "- 在python中，布尔值可以当数字使用\n",
    "    - 布尔值如果当数字使用， True=1， False=0\n",
    "    - 如果数字用来当作布尔值使用，0=False, 其余当做True"
   ]
  },
  {
   "cell_type": "code",
   "execution_count": 13,
   "metadata": {},
   "outputs": [
    {
     "name": "stdout",
     "output_type": "stream",
     "text": [
      "19\n",
      "真\n"
     ]
    }
   ],
   "source": [
    "age = 18 + True\n",
    "print(age)\n",
    "\n",
    "#判断语句\n",
    "a = -1\n",
    "if a:\n",
    "    print(\"真\")\n",
    "else:\n",
    "    print(\"假\")"
   ]
  },
  {
   "cell_type": "markdown",
   "metadata": {},
   "source": [
    "# 字符串\n",
    "- 表达文字信息的内容，比如“我爱周瑶”\n",
    "- 形式上是引号引起来的一段内容\n",
    "- 引号包括\n",
    "    - 单引号、\n",
    "    - 双引号\n",
    "    - 三引号，用来表示多行信息\n",
    "- 单引号和双引号含义一致"
   ]
  },
  {
   "cell_type": "code",
   "execution_count": 16,
   "metadata": {},
   "outputs": [
    {
     "name": "stdout",
     "output_type": "stream",
     "text": [
      "我爱周瑶\n",
      "我爱你\n",
      "太爱你\n",
      "你知道\n",
      "\n"
     ]
    }
   ],
   "source": [
    "a = \"我爱周瑶\"\n",
    "print(a)\n",
    "\n",
    "a2 = \"\"\"我爱你\n",
    "太爱你\n",
    "你知道\n",
    "\"\"\"\n",
    "print(a2)"
   ]
  },
  {
   "cell_type": "markdown",
   "metadata": {},
   "source": [
    "# None 类型\n",
    "- 表示没有，通常用来占位\n",
    "- 比如返回，用来表示返回一个空"
   ]
  },
  {
   "cell_type": "markdown",
   "metadata": {},
   "source": [
    "# 表达式\n",
    "- 有一个或者几个数字或者变量或者运算符合成的一行代码\n",
    "- 通常返回一个结果\n",
    "# 运算符\n",
    "- 由一个以上的值经过一系列的运算得到新值的过程叫做运算\n",
    "- 用来操作运算的符号叫运算符\n",
    "- 运算分类\n",
    "    - 算数运算符\n",
    "    - 比较或者关系运算符\n",
    "    - 赋值运算符\n",
    "    - 逻辑运算符\n",
    "    - 位运算\n",
    "    - 成员运算符\n",
    "    - 身份运算符"
   ]
  },
  {
   "cell_type": "code",
   "execution_count": 5,
   "metadata": {},
   "outputs": [
    {
     "data": {
      "text/plain": [
       "13"
      ]
     },
     "execution_count": 5,
     "metadata": {},
     "output_type": "execute_result"
    }
   ],
   "source": [
    "#表达式案例\n",
    "1+12"
   ]
  },
  {
   "cell_type": "markdown",
   "metadata": {},
   "source": [
    "# 算术运算符\n",
    "- 用来进行算数运算的符号\n",
    "- 通常用来表示加减乘除\n",
    "- python没有自增自减运算符"
   ]
  },
  {
   "cell_type": "code",
   "execution_count": 15,
   "metadata": {},
   "outputs": [
    {
     "name": "stdout",
     "output_type": "stream",
     "text": [
      "7\n",
      "11\n",
      "16\n",
      "4.5\n",
      "-2.25\n",
      "4\n",
      "1\n",
      "-3\n"
     ]
    }
   ],
   "source": [
    "# 算数运算符案例\n",
    "\n",
    "#加减乘跟数学意义基本一样\n",
    "\n",
    "a = 9-2\n",
    "print(a)\n",
    "\n",
    "b = 9 + 2\n",
    "print(b)\n",
    "\n",
    "c = 8 * 2\n",
    "print(c)\n",
    "\n",
    "#python除法分为普通除法，地板除，取余\n",
    "\n",
    "#正常的除法\n",
    "#次操作符在python2.x 和 3.x中有些不同\n",
    "a = 9 / 2\n",
    "print(a)\n",
    "\n",
    "#除以复数的结果\n",
    "a = 9 / -4\n",
    "print(a)\n",
    "\n",
    "#地板除\n",
    "a = 9//2\n",
    "print(a)#取整数\n",
    "\n",
    "#取余除\n",
    "#(9-x)/（2）=y\n",
    "a = 9 % 2\n",
    "print(a)\n",
    "\n",
    "#除以负数的结果\n",
    "#理解这个结果参考取余的定义\n",
    "#(9-x)/（-4）=y\n",
    "a = 9 % -4\n",
    "print(a)"
   ]
  },
  {
   "cell_type": "code",
   "execution_count": null,
   "metadata": {},
   "outputs": [],
   "source": [
    "#比较运算符\n"
   ]
  }
 ],
 "metadata": {
  "kernelspec": {
   "display_name": "Python 3",
   "language": "python",
   "name": "python3"
  },
  "language_info": {
   "codemirror_mode": {
    "name": "ipython",
    "version": 3
   },
   "file_extension": ".py",
   "mimetype": "text/x-python",
   "name": "python",
   "nbconvert_exporter": "python",
   "pygments_lexer": "ipython3",
   "version": "3.7.0"
  }
 },
 "nbformat": 4,
 "nbformat_minor": 2
}
