{
 "cells": [
  {
   "cell_type": "markdown",
   "metadata": {},
   "source": [
    "# python 学习之路\n",
    "- 坚持写博客\n",
    "- jupyter notebook的用法\n",
    "- 变量"
   ]
  },
  {
   "cell_type": "code",
   "execution_count": 2,
   "metadata": {},
   "outputs": [
    {
     "name": "stdout",
     "output_type": "stream",
     "text": [
      "i love wangxiaojing\n"
     ]
    }
   ],
   "source": [
    "print(\"i love wangxiaojing\")"
   ]
  },
  {
   "cell_type": "code",
   "execution_count": 1,
   "metadata": {},
   "outputs": [
    {
     "name": "stdout",
     "output_type": "stream",
     "text": [
      "我爱周瑶\n",
      "我爱周瑶 我爱周瑶\n",
      "wo ai zhou yao wo ai ni  123\n"
     ]
    }
   ],
   "source": [
    "#声明的三种格式\n",
    "#格式1\n",
    "s = \"我爱周瑶\"\n",
    "\n",
    "#格式2\n",
    "s2 = s1 =\"我爱周瑶\"\n",
    "print(s)\n",
    "print(s2,s1)\n",
    "#格式3\n",
    "s1,s2,s3 = \"wo ai zhou yao\",\"wo ai ni \",123\n",
    "print(s1,s2,s3)"
   ]
  },
  {
   "cell_type": "markdown",
   "metadata": {},
   "source": [
    "# 变量类型\n",
    "- 严格意义上讲，python只有一个类型\n",
    "- 标准数据类型六中\n",
    "    - 数字Number\n",
    "    - 字符串 str\n",
    "    - 列表 list\n",
    "    - 元组 tuple\n",
    "    - 字典 dict\n",
    "    - 集合 set"
   ]
  },
  {
   "cell_type": "markdown",
   "metadata": {},
   "source": [
    "# 数字类型 Number\n",
    "- python 中的数字没有大小限制\n",
    "# 常见数字分类\n",
    "- 整数\n",
    "    - 没有小数部分\n",
    "    - 包含正数，负数，0\n",
    "    - 二进制\n",
    "        - 只有01\n",
    "        - 以0b开头的01串\n",
    "        - 例如：\n",
    "            - 0b110\n",
    "            - 0b1111\n",
    "    - 八进制\n",
    "        - 以0o开头的0到7之间的数字串\n",
    "        - 例如：\n",
    "            - 0o72\n",
    "    - 十六进制\n",
    "        - 以0x组成的由 0-9，a-f构成的串\n",
    "- 浮点数\n",
    "- 科学计数法\n",
    "- 复数"
   ]
  },
  {
   "cell_type": "code",
   "execution_count": 6,
   "metadata": {},
   "outputs": [
    {
     "name": "stdout",
     "output_type": "stream",
     "text": [
      "6\n",
      "30\n",
      "58\n",
      "575\n"
     ]
    }
   ],
   "source": [
    "a1=0b110\n",
    "print(a1)\n",
    "a2=0b11110\n",
    "print(a2)\n",
    "a3=0o72\n",
    "print(a3)\n",
    "a4=0x23f\n",
    "print(a4)"
   ]
  },
  {
   "cell_type": "code",
   "execution_count": 8,
   "metadata": {},
   "outputs": [
    {
     "name": "stdout",
     "output_type": "stream",
     "text": [
      "65535\n",
      "214444\n"
     ]
    }
   ],
   "source": [
    "#十六进制的案例\n",
    "a4=0xffff\n",
    "print(a4)\n",
    "\n",
    "a5=0x345ac\n",
    "print(a5)"
   ]
  },
  {
   "cell_type": "markdown",
   "metadata": {},
   "source": [
    "## 浮点数\n",
    "- 就是通俗意义上的小数量\n",
    "- 常见的案例格式\n",
    "    - 3.12159\n",
    "    - 3.\n",
    "    - 0.2\n",
    "    - .4\n",
    "- 科学记数法\n",
    "    - 定义跟数学定义一致、\n",
    "    - 写法就是e后面跟整数用来表示10的指数"
   ]
  },
  {
   "cell_type": "code",
   "execution_count": 10,
   "metadata": {},
   "outputs": [
    {
     "name": "stdout",
     "output_type": "stream",
     "text": [
      "184\n",
      "184.0\n",
      "0.2\n"
     ]
    }
   ],
   "source": [
    "#科学记数法\n",
    "heigh = 178\n",
    "print(184)\n",
    "\n",
    "heigh2 = 1.84e2\n",
    "print(heigh2)\n",
    "\n",
    "a=.2\n",
    "print(a)"
   ]
  },
  {
   "cell_type": "markdown",
   "metadata": {},
   "source": [
    "# 复数complex\n",
    "- 与数学定义一致\n",
    "- 复数的虚部用j/J表示\n",
    "- 例如：\n",
    "    - 5+4j\n",
    "    - 4j\n",
    "    - (4j)"
   ]
  },
  {
   "cell_type": "code",
   "execution_count": 11,
   "metadata": {},
   "outputs": [
    {
     "name": "stdout",
     "output_type": "stream",
     "text": [
      "4j\n"
     ]
    }
   ],
   "source": [
    "a=4j\n",
    "print(a)"
   ]
  },
  {
   "cell_type": "markdown",
   "metadata": {},
   "source": [
    "# 布尔值\n",
    "- 布尔值就是用来表示真假的值\n",
    "- 只有两个值：True/False(第一个字母大写)\n",
    "- 在python中，布尔值可以当数字使用\n",
    "    - 布尔值如果当数字使用， True=1， False=0\n",
    "    - 如果数字用来当作布尔值使用，0=False, 其余当做True"
   ]
  },
  {
   "cell_type": "code",
   "execution_count": 13,
   "metadata": {},
   "outputs": [
    {
     "name": "stdout",
     "output_type": "stream",
     "text": [
      "19\n",
      "真\n"
     ]
    }
   ],
   "source": [
    "age = 18 + True\n",
    "print(age)\n",
    "\n",
    "#判断语句\n",
    "a = -1\n",
    "if a:\n",
    "    print(\"真\")\n",
    "else:\n",
    "    print(\"假\")"
   ]
  },
  {
   "cell_type": "markdown",
   "metadata": {},
   "source": [
    "# 字符串\n",
    "- 表达文字信息的内容，比如“我爱周瑶”\n",
    "- 形式上是引号引起来的一段内容\n",
    "- 引号包括\n",
    "    - 单引号、\n",
    "    - 双引号\n",
    "    - 三引号，用来表示多行信息\n",
    "- 单引号和双引号含义一致"
   ]
  },
  {
   "cell_type": "code",
   "execution_count": 16,
   "metadata": {},
   "outputs": [
    {
     "name": "stdout",
     "output_type": "stream",
     "text": [
      "我爱周瑶\n",
      "我爱你\n",
      "太爱你\n",
      "你知道\n",
      "\n"
     ]
    }
   ],
   "source": [
    "a = \"我爱周瑶\"\n",
    "print(a)\n",
    "\n",
    "a2 = \"\"\"我爱你\n",
    "太爱你\n",
    "你知道\n",
    "\"\"\"\n",
    "print(a2)"
   ]
  },
  {
   "cell_type": "markdown",
   "metadata": {},
   "source": [
    "# None 类型\n",
    "- 表示没有，通常用来占位\n",
    "- 比如返回，用来表示返回一个空"
   ]
  },
  {
   "cell_type": "markdown",
   "metadata": {},
   "source": [
    "# 表达式\n",
    "- 有一个或者几个数字或者变量或者运算符合成的一行代码\n",
    "- 通常返回一个结果\n",
    "# 运算符\n",
    "- 由一个以上的值经过一系列的运算得到新值的过程叫做运算\n",
    "- 用来操作运算的符号叫运算符\n",
    "- 运算分类\n",
    "    - 算数运算符\n",
    "    - 比较或者关系运算符\n",
    "    - 赋值运算符\n",
    "    - 逻辑运算符\n",
    "    - 位运算\n",
    "    - 成员运算符\n",
    "    - 身份运算符"
   ]
  },
  {
   "cell_type": "code",
   "execution_count": 5,
   "metadata": {},
   "outputs": [
    {
     "data": {
      "text/plain": [
       "13"
      ]
     },
     "execution_count": 5,
     "metadata": {},
     "output_type": "execute_result"
    }
   ],
   "source": [
    "#表达式案例\n",
    "1+12"
   ]
  },
  {
   "cell_type": "markdown",
   "metadata": {},
   "source": [
    "# 算术运算符\n",
    "- 用来进行算数运算的符号\n",
    "- 通常用来表示加减乘除\n",
    "- python没有自增自减运算符"
   ]
  },
  {
   "cell_type": "code",
   "execution_count": 1,
   "metadata": {},
   "outputs": [
    {
     "name": "stdout",
     "output_type": "stream",
     "text": [
      "7\n",
      "11\n",
      "16\n",
      "4.5\n",
      "-2.25\n",
      "4\n",
      "1\n",
      "-3\n",
      "49\n"
     ]
    }
   ],
   "source": [
    "# 算数运算符案例\n",
    "\n",
    "#加减乘跟数学意义基本一样\n",
    "\n",
    "a = 9-2\n",
    "print(a)\n",
    "\n",
    "b = 9 + 2\n",
    "print(b)\n",
    "\n",
    "c = 8 * 2\n",
    "print(c)\n",
    "\n",
    "#python除法分为普通除法，地板除，取余\n",
    "\n",
    "#正常的除法\n",
    "#次操作符在python2.x 和 3.x中有些不同\n",
    "a = 9 / 2\n",
    "print(a)\n",
    "\n",
    "#除以复数的结果\n",
    "a = 9 / -4\n",
    "print(a)\n",
    "\n",
    "#地板除\n",
    "a = 9//2\n",
    "print(a)#取整数\n",
    "\n",
    "#取余除\n",
    "#(9-x)/（2）=y\n",
    "a = 9 % 2\n",
    "print(a)\n",
    "\n",
    "#除以负数的结果\n",
    "#理解这个结果参考取余的定义\n",
    "#(9-x)/（-4）=y\n",
    "a = 9 % -4\n",
    "print(a)\n",
    "\n",
    "#两个乘号就是指数\n",
    "a = 7**2\n",
    "print(a)"
   ]
  },
  {
   "cell_type": "markdown",
   "metadata": {},
   "source": [
    "# 比较运算符\n",
    "- 对两个内容进行比较的运算符\n",
    "- 结果一定是布尔值，即True/False"
   ]
  },
  {
   "cell_type": "code",
   "execution_count": 6,
   "metadata": {},
   "outputs": [
    {
     "name": "stdout",
     "output_type": "stream",
     "text": [
      "False\n",
      "True\n",
      "False\n",
      "True\n"
     ]
    }
   ],
   "source": [
    "#等于 == 比较运算符\n",
    "a = 3 ==4\n",
    "print(a)\n",
    "\n",
    "#不等于 !=\n",
    "a = 3 != 4\n",
    "print(a) \n",
    "\n",
    "#其他的符号\n",
    "# >,>=,<,<=\n",
    "\n",
    "print(3 >= 8)\n",
    "\n",
    "print(\"wangxiaojing\" > \"liudnan\")"
   ]
  },
  {
   "cell_type": "markdown",
   "metadata": {},
   "source": [
    "# 赋值运算符\n",
    "- 把一个值放到变量里边去"
   ]
  },
  {
   "cell_type": "code",
   "execution_count": 16,
   "metadata": {},
   "outputs": [
    {
     "name": "stdout",
     "output_type": "stream",
     "text": [
      "9\n",
      "3\n",
      "3\n"
     ]
    }
   ],
   "source": [
    "#赋值符号 =\n",
    "a = 9\n",
    "print(a)\n",
    "\n",
    "#复杂赋值,从右往左赋值\n",
    "a = b = 9\n",
    "a,b = 1,3\n",
    "\n",
    "#赋值的缩写\n",
    "demo = 0\n",
    "demo = demo + 3\n",
    "print(demo)\n",
    "\n",
    "#缩写\n",
    "demo2 = 0\n",
    "demo2 += 3\n",
    "print(demo2)\n",
    "\n",
    "#所有数学运算符都可以缩写\n",
    "# -=，*=，/=，//=,%=,**=,都是缩写形式\n",
    "#python中没有 ++。--"
   ]
  },
  {
   "cell_type": "markdown",
   "metadata": {},
   "source": [
    "# 逻辑运算符\n",
    "- 对布尔类型变量或者值进行运算的符号\n",
    "- and:  逻辑与\n",
    "- or:  逻辑或\n",
    "- not: 逻辑非\n",
    "- python 里面的逻辑运算没有异或\n",
    "- 运算规则：\n",
    "    - and 看做乘法，or看做加法，\n",
    "    - True看做1， False看做0\n",
    "    - 则逻辑运算就能转换成整数数学运算\n",
    "    - 最后结果如果是0则为False，否则为True\n",
    "- 逻辑运算的短路问题"
   ]
  },
  {
   "cell_type": "code",
   "execution_count": 19,
   "metadata": {},
   "outputs": [
    {
     "name": "stdout",
     "output_type": "stream",
     "text": [
      "True\n"
     ]
    }
   ],
   "source": [
    "#逻辑表达举例\n",
    "a = True\n",
    "b = True\n",
    "c = False\n",
    "\n",
    "aa = a and b#左边表达式可以转换成1*1\n",
    "print(aa)"
   ]
  },
  {
   "cell_type": "code",
   "execution_count": 21,
   "metadata": {},
   "outputs": [
    {
     "name": "stdout",
     "output_type": "stream",
     "text": [
      "True\n"
     ]
    }
   ],
   "source": [
    "# 短路问题案例\n",
    "a = True\n",
    "b = True\n",
    "c = False\n",
    "\n",
    "aa = a or b and (a and b)#转换成算数 1+。。。。。\n",
    "print(aa)"
   ]
  },
  {
   "cell_type": "markdown",
   "metadata": {},
   "source": [
    "# 成员运算符\n",
    "- 用来检测一个值或者变量是否在某个集合里面\n",
    "- in：成员运算符\n",
    "- not in：不在里边的意思\n"
   ]
  },
  {
   "cell_type": "code",
   "execution_count": 24,
   "metadata": {},
   "outputs": [
    {
     "name": "stdout",
     "output_type": "stream",
     "text": [
      "False\n",
      "True\n"
     ]
    }
   ],
   "source": [
    "#in 案例\n",
    "\n",
    "L=[1,2,3,4,5,]\n",
    "a = 6\n",
    "aa = a in L #a 在L里面吗\n",
    "print(aa)\n",
    "\n",
    "#a没有在L里面\n",
    "aa = a not in L\n",
    "print(aa)"
   ]
  },
  {
   "cell_type": "markdown",
   "metadata": {},
   "source": [
    "# 身份运算符\n",
    "- 用来确定两个变量是否是同一变量\n",
    "- is：  变量运算符\n",
    "- is not：不是"
   ]
  },
  {
   "cell_type": "code",
   "execution_count": 30,
   "metadata": {},
   "outputs": [
    {
     "name": "stdout",
     "output_type": "stream",
     "text": [
      "True\n",
      "False\n"
     ]
    }
   ],
   "source": [
    "#身份运算符定义\n",
    "#a，b仅仅是值一样，并不代表a，b是一个变量，\n",
    "#当值很大的时候会重新存放地址，经常使用的值有指定位置 \n",
    "#-5到256之间不需要单独处理\n",
    "a = 5\n",
    "b = 5\n",
    "\n",
    "a1 = 11231231\n",
    "b2 = 11231231\n",
    "\n",
    "bb = a1 is b2\n",
    "aa = a is b  #a是b吗\n",
    "print(aa)\n",
    "print(bb)"
   ]
  },
  {
   "cell_type": "markdown",
   "metadata": {},
   "source": [
    "# 运算符优先级问题\n",
    "- 小括号具有最高优先级\n",
    "- "
   ]
  }
 ],
 "metadata": {
  "kernelspec": {
   "display_name": "Python 3",
   "language": "python",
   "name": "python3"
  },
  "language_info": {
   "codemirror_mode": {
    "name": "ipython",
    "version": 3
   },
   "file_extension": ".py",
   "mimetype": "text/x-python",
   "name": "python",
   "nbconvert_exporter": "python",
   "pygments_lexer": "ipython3",
   "version": "3.7.0"
  }
 },
 "nbformat": 4,
 "nbformat_minor": 2
}
