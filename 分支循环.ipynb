{
 "cells": [
  {
   "cell_type": "markdown",
   "metadata": {},
   "source": [
    "# 程序结构\n",
    "- 程序三种结构\n",
    "    - 顺序\n",
    "    - 循环\n",
    "    - 分支"
   ]
  },
  {
   "cell_type": "markdown",
   "metadata": {},
   "source": [
    "# 分支结构\n",
    "- 分支结构基本语法\n",
    "    if 条件表达式：\n",
    "        语句1\n",
    "        语句2\n",
    "        语句3\n",
    "        ......\n",
    "- 条件表达式就是计算结果必须为布尔值的表达式\n",
    "- 表达式后面的冒号不能少\n",
    "- 注意if后面的出现的语句，如果属于if语句块，则必须同一个缩进等级\n",
    "- 条件表达式结果为True执行if后面的缩进的语句块"
   ]
  },
  {
   "cell_type": "code",
   "execution_count": 3,
   "metadata": {},
   "outputs": [
    {
     "name": "stdout",
     "output_type": "stream",
     "text": [
      "ssss\n",
      "zzzz\n",
      "qqqq\n"
     ]
    }
   ],
   "source": [
    "a = 3\n",
    "if a<3:\n",
    "    print(\"hello\")\n",
    "# if语句联系\n",
    "# 如果你们都买我的习题课，我就发财了\n",
    "a = \"  \"\n",
    "\n",
    "# 字符串的真假\n",
    "# 只有空字符串为False\n",
    "if a:\n",
    "    print(\"ssss\")\n",
    "    print(\"zzzz\")\n",
    "print(\"qqqq\")"
   ]
  },
  {
   "cell_type": "code",
   "execution_count": 4,
   "metadata": {},
   "outputs": [
    {
     "name": "stdout",
     "output_type": "stream",
     "text": [
      "喝酒\n",
      "下次你请我\n"
     ]
    }
   ],
   "source": [
    "# if联系二\n",
    "\n",
    "age = 19\n",
    "\n",
    "if age > 16:\n",
    "    print(\"喝酒\")\n",
    "print(\"下次你请我\")"
   ]
  },
  {
   "cell_type": "markdown",
   "metadata": {},
   "source": [
    "# 双向分支\n",
    "- if....else...表达\n",
    "- 语法结构：\n",
    "    if 条件表达式：\n",
    "        语句1\n",
    "        语句2\n",
    "        ....\n",
    "    else：\n",
    "        语句1\n",
    "        语句2\n",
    "        ...."
   ]
  },
  {
   "cell_type": "code",
   "execution_count": 3,
   "metadata": {},
   "outputs": [
    {
     "name": "stdout",
     "output_type": "stream",
     "text": [
      "请输入你的性别：man\n",
      "man\n",
      "走，喝酒抽烟剃头\n",
      "一起玩\n"
     ]
    }
   ],
   "source": [
    "# input的作用是\n",
    "# 1.在屏幕上输出括号内的字符串\n",
    "# 2.接受用户输入的内容并返回到程序\n",
    "# 3. input返回的内容一定是字符串类型\n",
    "\n",
    "# input负责接受用户输入并把内容返回给变量\n",
    "gender = input(\"请输入你的性别：\")\n",
    "\n",
    "print(gender)\n",
    "if gender == \"man\":\n",
    "    print(\"走，喝酒抽烟剃头\")\n",
    "    print(\"一起玩\")\n",
    "else:\n",
    "    print(\"你是谁\")\n",
    "    print(\"不跟你玩\")"
   ]
  },
  {
   "cell_type": "code",
   "execution_count": 8,
   "metadata": {},
   "outputs": [
    {
     "name": "stdout",
     "output_type": "stream",
     "text": [
      "输入你的成绩：68\n",
      "平\n"
     ]
    }
   ],
   "source": [
    "# 考试成绩判断\n",
    "# 成绩由用户输入\n",
    "# 90以上：优秀\n",
    "# 80-90：良\n",
    "# 70-80：中\n",
    "# 70-60:平\n",
    "# 60以下：差\n",
    "grade = 0\n",
    "grade = int(input(\"输入你的成绩：\"))\n",
    "if grade > 90:\n",
    "    print(\"优秀\")\n",
    "elif grade >= 80:\n",
    "    print(\"良\")\n",
    "elif grade>=70:\n",
    "    print(\"中\")\n",
    "elif grade>=60:\n",
    "    print(\"平\")\n",
    "elif grade<60:\n",
    "    print(\"差\")"
   ]
  },
  {
   "cell_type": "markdown",
   "metadata": {},
   "source": [
    "# 多路分支\n",
    "- 很多分支的情况，叫多路分支\n",
    "\n",
    "    if条件表达式：\n",
    "        语句1\n",
    "        ....\n",
    "    elif 条件表达式：\n",
    "        语句2\n",
    "        .....\n",
    "    else \n",
    "        语句1\n",
    "        \n",
    "# if语句补充\n",
    "- if语句可以嵌套使用，不推荐"
   ]
  },
  {
   "cell_type": "markdown",
   "metadata": {},
   "source": [
    "# 循环语句\n",
    "- 重复执行某一个固定的动作或任务\n",
    "- 分类\n",
    "    - for\n",
    "    - while\n",
    "# for 循环\n",
    "- 语法 \n",
    "    \n",
    "    for 变量 in 序列:\n",
    "        语句1\n",
    "        语句2\n",
    "        "
   ]
  },
  {
   "cell_type": "code",
   "execution_count": 3,
   "metadata": {},
   "outputs": [
    {
     "name": "stdout",
     "output_type": "stream",
     "text": [
      "1\n",
      "101\n",
      "1001\n",
      "2\n",
      "102\n",
      "1002\n",
      "3\n",
      "103\n",
      "1003\n",
      "4\n",
      "104\n",
      "1004\n",
      "5\n",
      "105\n",
      "1005\n",
      "6\n",
      "106\n",
      "1006\n",
      "7\n",
      "107\n",
      "1007\n"
     ]
    }
   ],
   "source": [
    "# 比如 {1,2,3,4,5,6,7}\n",
    "\n",
    "list_one=[1,2,3,4,5,6,7]\n",
    "for shuzi in list_one:\n",
    "    print(shuzi)\n",
    "    print(shuzi+100)\n",
    "    print(shuzi+1000)"
   ]
  },
  {
   "cell_type": "code",
   "execution_count": 5,
   "metadata": {},
   "outputs": [
    {
     "name": "stdout",
     "output_type": "stream",
     "text": [
      "对不起同学，你不是我找的人\n",
      "对不起同学，你不是我找的人\n",
      "王晓静我爱你\n"
     ]
    }
   ],
   "source": [
    "\n",
    "list_student = ['王大燕','美丽','王晓静']\n",
    "for stu in list_student:\n",
    "    if stu == \"王晓静\":\n",
    "        print (\"王晓静我爱你\")\n",
    "    else:\n",
    "        print(\"对不起同学，你不是我找的人\")"
   ]
  },
  {
   "cell_type": "markdown",
   "metadata": {},
   "source": [
    "# for-else 语句\n",
    "- for循环结束的时候，有时候需要执行一些收尾的工作，此时需要使用else语句\n",
    "- else语句是可选"
   ]
  },
  {
   "cell_type": "code",
   "execution_count": 6,
   "metadata": {},
   "outputs": [
    {
     "name": "stdout",
     "output_type": "stream",
     "text": [
      "对不起同学，你不是我找的人\n",
      "对不起同学，你不是我找的人\n",
      "王晓静去哪里了\n",
      "不会再爱了\n"
     ]
    }
   ],
   "source": [
    "list_student = ['王大燕','美丽','王晓静']\n",
    "\n",
    "for stu in list_student:\n",
    "    if stu == \"王晓静\":\n",
    "        print (\"王晓静去哪里了\")\n",
    "    else:\n",
    "        print(\"对不起同学，你不是我找的人\")\n",
    "else:\n",
    "    print(\"不会再爱了\")"
   ]
  },
  {
   "cell_type": "markdown",
   "metadata": {},
   "source": [
    "# break ，continue，pass\n",
    "- break 打断，无条件结束整个循环，简称循环猝死\n",
    "- continue 继续\n",
    "- pass 只是一个占位符,不是跳过符"
   ]
  },
  {
   "cell_type": "code",
   "execution_count": null,
   "metadata": {},
   "outputs": [],
   "source": []
  },
  {
   "cell_type": "code",
   "execution_count": 11,
   "metadata": {},
   "outputs": [
    {
     "name": "stdout",
     "output_type": "stream",
     "text": [
      "找到你了，哈哈\n"
     ]
    }
   ],
   "source": [
    "#在一个数字队列中，寻找数字7，如果找到，打印出来即可\n",
    "list = [1,2,3,4,5,6,7,8,9,0]\n",
    "\n",
    "for l in list:\n",
    "    if l == 7:\n",
    "        print(\"找到你了，哈哈\")\n",
    "        break\n",
    "    else:\n",
    "        print(l)\n",
    "    "
   ]
  },
  {
   "cell_type": "code",
   "execution_count": 15,
   "metadata": {},
   "outputs": [
    {
     "name": "stdout",
     "output_type": "stream",
     "text": [
      "2\n",
      "4\n",
      "6\n",
      "8\n",
      "0\n"
     ]
    }
   ],
   "source": [
    "#continue 语句练习\n",
    "#在数字1-10中，寻找所有偶数，找到偶数后打印\n",
    "list = [1,2,3,4,5,6,7,8,9,0]\n",
    "\"\"\"\n",
    "\n",
    "\"\"\"\n",
    "for l in list:\n",
    "    if l%2 == 1:\n",
    "        continue\n",
    "    print(l)\n"
   ]
  },
  {
   "cell_type": "code",
   "execution_count": 16,
   "metadata": {},
   "outputs": [
    {
     "name": "stdout",
     "output_type": "stream",
     "text": [
      "你还小\n"
     ]
    }
   ],
   "source": [
    "# pass案例\n",
    "age = 19\n",
    "if age > 19:\n",
    "    pass\n",
    "    \n",
    "else:\n",
    "    print(\"你还小\")"
   ]
  },
  {
   "cell_type": "code",
   "execution_count": 17,
   "metadata": {},
   "outputs": [
    {
     "ename": "IndentationError",
     "evalue": "expected an indented block (<ipython-input-17-28fa70a911bd>, line 6)",
     "output_type": "error",
     "traceback": [
      "\u001b[1;36m  File \u001b[1;32m\"<ipython-input-17-28fa70a911bd>\"\u001b[1;36m, line \u001b[1;32m6\u001b[0m\n\u001b[1;33m    else:\u001b[0m\n\u001b[1;37m       ^\u001b[0m\n\u001b[1;31mIndentationError\u001b[0m\u001b[1;31m:\u001b[0m expected an indented block\n"
     ]
    }
   ],
   "source": [
    "# pass案例\n",
    "age = 19\n",
    "if age > 19:\n",
    "\n",
    "    \n",
    "else:\n",
    "    print(\"你还小\")"
   ]
  },
  {
   "cell_type": "code",
   "execution_count": 19,
   "metadata": {},
   "outputs": [
    {
     "name": "stdout",
     "output_type": "stream",
     "text": [
      "1\n",
      "23\n",
      "23\n",
      "34\n",
      "45\n"
     ]
    }
   ],
   "source": [
    "#pass案例2\n",
    "\n",
    "age = [1,23,23,34,45]\n",
    "for ages in age:\n",
    "    pass\n",
    "    print(ages)"
   ]
  },
  {
   "cell_type": "markdown",
   "metadata": {},
   "source": [
    "# range 函数 \n",
    "- 生成有序数列\n",
    "- 生成数字队列可以定制"
   ]
  },
  {
   "cell_type": "code",
   "execution_count": 23,
   "metadata": {},
   "outputs": [
    {
     "name": "stdout",
     "output_type": "stream",
     "text": [
      "1\n",
      "2\n",
      "3\n",
      "4\n",
      "5\n",
      "6\n",
      "7\n",
      "8\n",
      "9\n",
      "10\n",
      "11\n",
      "12\n",
      "13\n",
      "14\n",
      "15\n",
      "16\n",
      "17\n",
      "18\n",
      "19\n",
      "20\n",
      "21\n",
      "22\n",
      "23\n",
      "24\n",
      "25\n",
      "26\n",
      "27\n",
      "28\n",
      "29\n",
      "30\n",
      "31\n",
      "32\n",
      "33\n",
      "34\n",
      "35\n",
      "36\n",
      "37\n",
      "38\n",
      "39\n",
      "40\n",
      "41\n",
      "42\n",
      "43\n",
      "44\n",
      "45\n",
      "46\n",
      "47\n",
      "48\n",
      "49\n",
      "50\n",
      "51\n",
      "52\n",
      "53\n",
      "54\n",
      "55\n",
      "56\n",
      "57\n",
      "58\n",
      "59\n",
      "60\n",
      "61\n",
      "62\n",
      "63\n",
      "64\n",
      "65\n",
      "66\n",
      "67\n",
      "68\n",
      "69\n",
      "70\n",
      "71\n",
      "72\n",
      "73\n",
      "74\n",
      "75\n",
      "76\n",
      "77\n",
      "78\n",
      "79\n",
      "80\n",
      "81\n",
      "82\n",
      "83\n",
      "84\n",
      "85\n",
      "86\n",
      "87\n",
      "88\n",
      "89\n",
      "90\n",
      "91\n",
      "92\n",
      "93\n",
      "94\n",
      "95\n",
      "96\n",
      "97\n",
      "98\n",
      "99\n"
     ]
    }
   ],
   "source": [
    "#range 案例\n",
    "#生成一个从1到100的数字序列\n",
    "#左包括右不包括\n",
    "\n",
    "list = range(1,100)\n",
    "for l in list:\n",
    "    print(l)\n",
    "    \n",
    "    \n",
    "    "
   ]
  },
  {
   "cell_type": "code",
   "execution_count": null,
   "metadata": {},
   "outputs": [],
   "source": [
    "#range 案例2"
   ]
  },
  {
   "cell_type": "markdown",
   "metadata": {},
   "source": [
    "# while循环\n",
    "- 一个循环语句\n",
    "- 表示当条件成立的时候，就循环，适用于不知道具体循环次数，但能确定某个条件成立的情况下就循环，\n",
    "- while 语法：\n",
    "    \n",
    "    while 条件表达式：\n",
    "        语句块\n",
    "    \n",
    "    #另外一种表达方法：\n",
    "        语句块1\n",
    "     else：\n",
    "         语句块2"
   ]
  },
  {
   "cell_type": "code",
   "execution_count": 26,
   "metadata": {},
   "outputs": [
    {
     "name": "stdout",
     "output_type": "stream",
     "text": [
      "11\n",
      "11\n"
     ]
    }
   ],
   "source": [
    "#年利率6.7%，本利是每年翻滚，则多少年后本钱翻倍\n",
    "\n",
    "benqian = 10000\n",
    "year = 0\n",
    "while benqian < 20000:\n",
    "    benqian = benqian * (1 + 0.067)\n",
    "    year += 1\n",
    "print(year)\n",
    "    \n",
    "#年利率案例2\n",
    "benqian = 10000\n",
    "year = 0\n",
    "while benqian < 20000:\n",
    "    benqian = benqian * (1 + 0.067)\n",
    "    year += 1\n",
    "else:\n",
    "    print(year)"
   ]
  },
  {
   "cell_type": "markdown",
   "metadata": {},
   "source": [
    "# 函数\n",
    "- 函数是代码的一种组织形式\n",
    "- 函数应该能完成一项特定的工作，而且一般一个函数值完成一项工作\n",
    "- 有些语言，分函数和过程两个概念，通俗解释是，有返回结果的叫函数，无返回结果的叫过程，python不加以区分\n",
    "- 函数的使用\n",
    "    - 函数使用需要先定义\n",
    "    - 使用函数，俗称调用"
   ]
  },
  {
   "cell_type": "code",
   "execution_count": 28,
   "metadata": {},
   "outputs": [
    {
     "name": "stdout",
     "output_type": "stream",
     "text": [
      "函数结束了\n",
      "<function func at 0x000001DF075500D0>\n"
     ]
    }
   ],
   "source": [
    "\n",
    "def func():\n",
    "    print(\"我是一个函数\")\n",
    "    print(\"爱生活，爱拉芳，爱图灵\")\n",
    "    \n",
    "print(\"函数结束了\")\n"
   ]
  },
  {
   "cell_type": "code",
   "execution_count": null,
   "metadata": {},
   "outputs": [],
   "source": [
    "#函数的调用\n",
    "#直接写函数名字，后面小括号不能"
   ]
  }
 ],
 "metadata": {
  "kernelspec": {
   "display_name": "Python 3",
   "language": "python",
   "name": "python3"
  },
  "language_info": {
   "codemirror_mode": {
    "name": "ipython",
    "version": 3
   },
   "file_extension": ".py",
   "mimetype": "text/x-python",
   "name": "python",
   "nbconvert_exporter": "python",
   "pygments_lexer": "ipython3",
   "version": "3.7.0"
  }
 },
 "nbformat": 4,
 "nbformat_minor": 2
}
