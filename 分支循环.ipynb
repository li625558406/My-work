{
 "cells": [
  {
   "cell_type": "markdown",
   "metadata": {},
   "source": [
    "# 程序结构\n",
    "- 程序三种结构\n",
    "    - 顺序\n",
    "    - 循环\n",
    "    - 分支"
   ]
  },
  {
   "cell_type": "markdown",
   "metadata": {},
   "source": [
    "# 分支结构\n",
    "- 分支结构基本语法\n",
    "    if 条件表达式：\n",
    "        语句1\n",
    "        语句2\n",
    "        语句3\n",
    "        ......\n",
    "- 条件表达式就是计算结果必须为布尔值的表达式\n",
    "- 表达式后面的冒号不能少\n",
    "- 注意if后面的出现的语句，如果属于if语句块，则必须同一个缩进等级\n",
    "- 条件表达式结果为True执行if后面的缩进的语句块"
   ]
  },
  {
   "cell_type": "code",
   "execution_count": 3,
   "metadata": {},
   "outputs": [
    {
     "name": "stdout",
     "output_type": "stream",
     "text": [
      "ssss\n",
      "zzzz\n",
      "qqqq\n"
     ]
    }
   ],
   "source": [
    "a = 3\n",
    "if a<3:\n",
    "    print(\"hello\")\n",
    "# if语句联系\n",
    "# 如果你们都买我的习题课，我就发财了\n",
    "a = \"  \"\n",
    "\n",
    "# 字符串的真假\n",
    "# 只有空字符串为False\n",
    "if a:\n",
    "    print(\"ssss\")\n",
    "    print(\"zzzz\")\n",
    "print(\"qqqq\")"
   ]
  },
  {
   "cell_type": "code",
   "execution_count": 4,
   "metadata": {},
   "outputs": [
    {
     "name": "stdout",
     "output_type": "stream",
     "text": [
      "喝酒\n",
      "下次你请我\n"
     ]
    }
   ],
   "source": [
    "# if联系二\n",
    "\n",
    "age = 19\n",
    "\n",
    "if age > 16:\n",
    "    print(\"喝酒\")\n",
    "print(\"下次你请我\")"
   ]
  },
  {
   "cell_type": "markdown",
   "metadata": {},
   "source": [
    "# 双向分支\n",
    "- if....else...表达\n",
    "- 语法结构：\n",
    "    if 条件表达式：\n",
    "        语句1\n",
    "        语句2\n",
    "        ....\n",
    "    else：\n",
    "        语句1\n",
    "        语句2\n",
    "        ...."
   ]
  },
  {
   "cell_type": "code",
   "execution_count": 6,
   "metadata": {},
   "outputs": [
    {
     "name": "stdout",
     "output_type": "stream",
     "text": [
      "请输入你的性别：\n",
      "\n",
      "你是谁\n",
      "不跟你玩\n"
     ]
    }
   ],
   "source": [
    "# input的作用是\n",
    "# 1.在屏幕上输出括号内的字符串\n",
    "# 2.接受用户输入的内容并返回到程序\n",
    "# 3. input返回的内容一定是字符串类型\n",
    "\n",
    "# input负责接受用户输入并把内容返回给变量\n",
    "gender = input(\"请输入你的性别：\")\n",
    "\n",
    "print(gender)\n",
    "if gender == \"man\":\n",
    "    print(\"走，喝酒抽烟剃头\")\n",
    "    print(\"一起玩\")\n",
    "else:\n",
    "    print(\"你是谁\")\n",
    "    print(\"不跟你玩\")"
   ]
  },
  {
   "cell_type": "code",
   "execution_count": 8,
   "metadata": {},
   "outputs": [
    {
     "name": "stdout",
     "output_type": "stream",
     "text": [
      "输入你的成绩：68\n",
      "平\n"
     ]
    }
   ],
   "source": [
    "# 考试成绩判断\n",
    "# 成绩由用户输入\n",
    "# 90以上：优秀\n",
    "# 80-90：良\n",
    "# 70-80：中\n",
    "# 70-60:平\n",
    "# 60以下：差\n",
    "grade = 0\n",
    "grade = int(input(\"输入你的成绩：\"))\n",
    "if grade > 90:\n",
    "    print(\"优秀\")\n",
    "elif grade >= 80:\n",
    "    print(\"良\")\n",
    "elif grade>=70:\n",
    "    print(\"中\")\n",
    "elif grade>=60:\n",
    "    print(\"平\")\n",
    "elif grade<60:\n",
    "    print(\"差\")"
   ]
  }
 ],
 "metadata": {
  "kernelspec": {
   "display_name": "Python 3",
   "language": "python",
   "name": "python3"
  },
  "language_info": {
   "codemirror_mode": {
    "name": "ipython",
    "version": 3
   },
   "file_extension": ".py",
   "mimetype": "text/x-python",
   "name": "python",
   "nbconvert_exporter": "python",
   "pygments_lexer": "ipython3",
   "version": "3.7.0"
  }
 },
 "nbformat": 4,
 "nbformat_minor": 2
}
