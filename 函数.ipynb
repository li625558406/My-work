{
 "cells": [
  {
   "cell_type": "markdown",
   "metadata": {},
   "source": [
    "# 函数\n",
    "- 函数是代码的一种组织形式\n",
    "- 函数应该能完成一项特定的工作，而且一般一个函数值完成一项工作\n",
    "- 有些语言，分函数和过程两个概念，通俗解释 是，有返回结果 的叫函数，无返回结果的叫过程，python不加以区分\n",
    "- 函数的使用\n",
    "    - 函数使用需要先定义\n",
    "    - 使用函数，俗称调用\n"
   ]
  },
  {
   "cell_type": "code",
   "execution_count": 1,
   "metadata": {},
   "outputs": [
    {
     "name": "stdout",
     "output_type": "stream",
     "text": [
      "函数结束了\n"
     ]
    }
   ],
   "source": [
    "\n",
    "def func():\n",
    "    print(\"我是一个函数\")\n",
    "    print(\"爱生活，爱某某\")\n",
    "\n",
    "print(\"函数结束了\")\n",
    "\n"
   ]
  },
  {
   "cell_type": "code",
   "execution_count": 2,
   "metadata": {},
   "outputs": [
    {
     "name": "stdout",
     "output_type": "stream",
     "text": [
      "我是一个函数\n",
      "爱生活，爱某某\n"
     ]
    }
   ],
   "source": [
    "# 函数的调用\n",
    "# 直接写出函数名字，后面小括号不能省略，括号内内容根据情况而定\n",
    "\n",
    "func()"
   ]
  },
  {
   "cell_type": "markdown",
   "metadata": {},
   "source": [
    "# 本课程内容\n",
    "- 函数讲完参数\n",
    "- str\n",
    "- list，tupe，set，map\n"
   ]
  },
  {
   "cell_type": "code",
   "execution_count": 3,
   "metadata": {},
   "outputs": [],
   "source": [
    "# 函数定义\n",
    "def func1():\n",
    "    print(\"我爱李小姐\")\n",
    "    print(\"我爱抖音快手\")"
   ]
  },
  {
   "cell_type": "code",
   "execution_count": 5,
   "metadata": {},
   "outputs": [
    {
     "name": "stdout",
     "output_type": "stream",
     "text": [
      "我爱李小姐\n",
      "我爱抖音快手\n"
     ]
    }
   ],
   "source": [
    "func1()"
   ]
  },
  {
   "cell_type": "markdown",
   "metadata": {},
   "source": [
    "# 函数的参数和返回值\n",
    "- 参数：负责给函数传递一些必要的数据或者信息\n",
    "    - 形参（形式参数）：在函数定义的时候用到的参数，没有具体值，只有一个占位符号\n",
    "    - 实参（实际参数）：在调用函数的时候输入的值\n",
    "- 返回值：调用函数的时候的一个执行结果\n",
    "    - 使用return返回结果\n",
    "    - 如果没有值需要返回，我们推荐使用return None表示函数结束\n",
    "    - 函数一旦执行return，则函数立即结束\n",
    "    - 如果函数没有return ,则默认返回None"
   ]
  },
  {
   "cell_type": "code",
   "execution_count": 8,
   "metadata": {},
   "outputs": [
    {
     "name": "stdout",
     "output_type": "stream",
     "text": [
      "小明,你好吗？\n",
      "小明,你看见我家小金了吗\n"
     ]
    }
   ],
   "source": [
    "# 形参和实参的案例\n",
    "# 参数person只是一个符号\n",
    "# 调用的使用用另一个\n",
    "def hello(person):\n",
    "    print(\"{0},你好吗？\".format(person))\n",
    "    print(\"{},你看见我家小金了吗\".format(person))\n",
    "    return None\n",
    "p = \"小明\"\n",
    "\n",
    "hello(p)\n",
    "\n",
    "\n",
    "\n"
   ]
  },
  {
   "cell_type": "code",
   "execution_count": 9,
   "metadata": {},
   "outputs": [
    {
     "name": "stdout",
     "output_type": "stream",
     "text": [
      "小吴,你好吗？\n",
      "小吴,你看见我家小金了吗\n"
     ]
    }
   ],
   "source": [
    "p = \"小吴\"\n",
    "hello(p)"
   ]
  },
  {
   "cell_type": "code",
   "execution_count": 10,
   "metadata": {},
   "outputs": [
    {
     "name": "stdout",
     "output_type": "stream",
     "text": [
      "123,你好吗？\n",
      "123,你看见我家小金了吗\n",
      "None\n"
     ]
    }
   ],
   "source": [
    "pp = hello(\"123\")\n",
    "print(pp)"
   ]
  },
  {
   "cell_type": "code",
   "execution_count": 11,
   "metadata": {},
   "outputs": [
    {
     "name": "stdout",
     "output_type": "stream",
     "text": [
      "Help on built-in function print in module builtins:\n",
      "\n",
      "print(...)\n",
      "    print(value, ..., sep=' ', end='\\n', file=sys.stdout, flush=False)\n",
      "    \n",
      "    Prints the values to a stream, or to sys.stdout by default.\n",
      "    Optional keyword arguments:\n",
      "    file:  a file-like object (stream); defaults to the current sys.stdout.\n",
      "    sep:   string inserted between values, default a space.\n",
      "    end:   string appended after the last value, default a newline.\n",
      "    flush: whether to forcibly flush the stream.\n",
      "\n"
     ]
    }
   ],
   "source": [
    "# help负责随时为你提供帮助\n",
    "help(print)"
   ]
  },
  {
   "cell_type": "code",
   "execution_count": 25,
   "metadata": {},
   "outputs": [
    {
     "name": "stdout",
     "output_type": "stream",
     "text": [
      "o 1  \n",
      "o 2  o 4  \n",
      "o 3  o 6  o 9  \n",
      "o 4  o 8  o 12  o 16  \n",
      "o 5  o 10  o 15  o 20  o 25  \n",
      "o 6  o 12  o 18  o 24  o 30  o 36  \n",
      "o 7  o 14  o 21  o 28  o 35  o 42  o 49  \n",
      "o 8  o 16  o 24  o 32  o 40  o 48  o 56  o 64  \n",
      "o 9  o 18  o 27  o 36  o 45  o 54  o 63  o 72  o 81  \n"
     ]
    }
   ],
   "source": [
    "# 九九乘法表\n",
    "# version 1.0\n",
    "for o in range(1,10):# 控制外循环，从1到9\n",
    "    for i in range(1,o+1):# 内循环，每次从第一个数字开始，打印到跟行数相同的数量\n",
    "        print(o*i,end = \"  \")\n",
    "    print()"
   ]
  },
  {
   "cell_type": "code",
   "execution_count": 34,
   "metadata": {},
   "outputs": [
    {
     "name": "stdout",
     "output_type": "stream",
     "text": [
      "1 * 1 = 1   \n",
      "1 * 2 = 2   2 * 2 = 4   \n",
      "1 * 3 = 3   2 * 3 = 6   3 * 3 = 9   \n",
      "1 * 4 = 4   2 * 4 = 8   3 * 4 = 12   4 * 4 = 16   \n",
      "1 * 5 = 5   2 * 5 = 10   3 * 5 = 15   4 * 5 = 20   5 * 5 = 25   \n",
      "1 * 6 = 6   2 * 6 = 12   3 * 6 = 18   4 * 6 = 24   5 * 6 = 30   6 * 6 = 36   \n",
      "1 * 7 = 7   2 * 7 = 14   3 * 7 = 21   4 * 7 = 28   5 * 7 = 35   6 * 7 = 42   7 * 7 = 49   \n",
      "1 * 8 = 8   2 * 8 = 16   3 * 8 = 24   4 * 8 = 32   5 * 8 = 40   6 * 8 = 48   7 * 8 = 56   8 * 8 = 64   \n",
      "1 * 9 = 9   2 * 9 = 18   3 * 9 = 27   4 * 9 = 36   5 * 9 = 45   6 * 9 = 54   7 * 9 = 63   8 * 9 = 72   9 * 9 = 81   \n",
      "1 * 1 = 1   \n",
      "1 * 2 = 2   2 * 2 = 4   \n",
      "1 * 3 = 3   2 * 3 = 6   3 * 3 = 9   \n",
      "1 * 4 = 4   2 * 4 = 8   3 * 4 = 12   4 * 4 = 16   \n",
      "1 * 5 = 5   2 * 5 = 10   3 * 5 = 15   4 * 5 = 20   5 * 5 = 25   \n",
      "1 * 6 = 6   2 * 6 = 12   3 * 6 = 18   4 * 6 = 24   5 * 6 = 30   6 * 6 = 36   \n",
      "1 * 7 = 7   2 * 7 = 14   3 * 7 = 21   4 * 7 = 28   5 * 7 = 35   6 * 7 = 42   7 * 7 = 49   \n",
      "1 * 8 = 8   2 * 8 = 16   3 * 8 = 24   4 * 8 = 32   5 * 8 = 40   6 * 8 = 48   7 * 8 = 56   8 * 8 = 64   \n",
      "1 * 9 = 9   2 * 9 = 18   3 * 9 = 27   4 * 9 = 36   5 * 9 = 45   6 * 9 = 54   7 * 9 = 63   8 * 9 = 72   9 * 9 = 81   \n"
     ]
    }
   ],
   "source": [
    "# 尝试用函数表达出来\n",
    "\n",
    "def jiujiu():\n",
    "    for o in range(1,10):# 控制外循环，从1到9\n",
    "        for i in range(1,o+1):# 内循环，每次从第一个数字开始，打印到跟行数相同的数量\n",
    "            print(i,\"*\",o,\"=\",o*i,end = \"   \")\n",
    "        print()\n",
    "    return None    \n",
    "jiujiu()\n",
    "jiujiu()"
   ]
  },
  {
   "cell_type": "code",
   "execution_count": 37,
   "metadata": {},
   "outputs": [
    {
     "name": "stdout",
     "output_type": "stream",
     "text": [
      "1   \n",
      "2   4   \n",
      "3   6   9   \n",
      "4   8   12   16   \n",
      "5   10   15   20   25   \n",
      "6   12   18   24   30   36   \n",
      "7   14   21   28   35   42   49   \n",
      "8   16   24   32   40   48   56   64   \n",
      "9   18   27   36   45   54   63   72   81   \n"
     ]
    }
   ],
   "source": [
    "# 改造上面函数\n",
    "def printLine(number):\n",
    "    \n",
    "    \"\"\"\n",
    "    number:代表行号\n",
    "    打印一行九九乘法表\n",
    "    \"\"\"\n",
    "    for i in range(1,number+1):\n",
    "        print(number*i,end=\"   \")\n",
    "    print()\n",
    "def jiujiu():\n",
    "    for o in range(1,10):# 控制外循环，从1到9\n",
    "        printLine(o)\n",
    "    return None  \n",
    "\n",
    "jiujiu()"
   ]
  },
  {
   "cell_type": "markdown",
   "metadata": {},
   "source": [
    "# 参数详解\n",
    "- 参数分类\n",
    "    - 普通参数/位置参数\n",
    "    - 默认参数\n",
    "    - 关键字参数\n",
    "    - 收集参数"
   ]
  },
  {
   "cell_type": "code",
   "execution_count": 40,
   "metadata": {},
   "outputs": [
    {
     "name": "stdout",
     "output_type": "stream",
     "text": [
      "3\n"
     ]
    }
   ],
   "source": [
    "# 普通参数案例\n",
    "\n",
    "def normal_para(one,two,three):\n",
    "    print(one+two)\n",
    "    return None\n",
    "\n",
    "normal_para(1,2,3)"
   ]
  },
  {
   "cell_type": "code",
   "execution_count": 46,
   "metadata": {},
   "outputs": [
    {
     "name": "stdout",
     "output_type": "stream",
     "text": [
      "103\n",
      "6\n"
     ]
    }
   ],
   "source": [
    "# 默认参数案例\n",
    "\n",
    "def default_para(one,two,three=100):\n",
    "    print(one+two+three)\n",
    "    return None\n",
    "\n",
    "default_para(1,2)\n",
    "default_para(1,2,3)"
   ]
  },
  {
   "cell_type": "code",
   "execution_count": 48,
   "metadata": {},
   "outputs": [
    {
     "name": "stdout",
     "output_type": "stream",
     "text": [
      "3\n",
      "3\n"
     ]
    }
   ],
   "source": [
    "# 关键字参数\n",
    "\n",
    "def keys_para(one,two,three):\n",
    "    print(one + two)\n",
    "    print(three)\n",
    "    return None\n",
    "\n",
    "keys_para(one=1,two=2,three=3)"
   ]
  }
 ],
 "metadata": {
  "kernelspec": {
   "display_name": "Python 3",
   "language": "python",
   "name": "python3"
  },
  "language_info": {
   "codemirror_mode": {
    "name": "ipython",
    "version": 3
   },
   "file_extension": ".py",
   "mimetype": "text/x-python",
   "name": "python",
   "nbconvert_exporter": "python",
   "pygments_lexer": "ipython3",
   "version": "3.7.0"
  }
 },
 "nbformat": 4,
 "nbformat_minor": 2
}
